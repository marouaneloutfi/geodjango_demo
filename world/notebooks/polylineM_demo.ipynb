{
 "cells": [
  {
   "cell_type": "markdown",
   "metadata": {},
   "source": [
    "### Install the modified version of Geopandas"
   ]
  },
  {
   "cell_type": "code",
   "execution_count": null,
   "metadata": {},
   "outputs": [],
   "source": [
    "!pip3 install git+https://github.com/marouaneloutfi/geopandas.git@polyline-M-support\n",
    "!pip3 install git+https://github.com/marouaneloutfi/Fiona.git@polyline-M-support"
   ]
  },
  {
   "cell_type": "markdown",
   "metadata": {},
   "source": [
    "### Import The necessary modules"
   ]
  },
  {
   "cell_type": "code",
   "execution_count": 3,
   "metadata": {},
   "outputs": [],
   "source": [
    "import geopandas"
   ]
  },
  {
   "cell_type": "markdown",
   "metadata": {},
   "source": [
    "### Read the shape file containing the polyline M geometries into a geo dataframe "
   ]
  },
  {
   "cell_type": "code",
   "execution_count": 6,
   "metadata": {},
   "outputs": [],
   "source": [
    "gdf = geopandas.read_file('../data/polylineM/asv_lines_Calibrated.shp')"
   ]
  },
  {
   "cell_type": "markdown",
   "metadata": {},
   "source": [
    "_**The M values are stored seperatly for each feature (Geometry) in its 'properties' dict under the key measurements**_"
   ]
  },
  {
   "cell_type": "code",
   "execution_count": 7,
   "metadata": {},
   "outputs": [
    {
     "name": "stdout",
     "output_type": "stream",
     "text": [
      "         lmarkname  year  jday discover        divisors       orig_fname  \\\n",
      "0  asv06_154ap_000  2006   154       no  -600000/600000  apallchicola000   \n",
      "1  asv06_154ap_001  2006   154       no  -600000/600000  apallchicola001   \n",
      "2  asv06_154ap_002  2006   154       no  -600000/600000  apallchicola002   \n",
      "3  asv06_154ap_003  2006   154       no  -600000/600000  apallchicola003   \n",
      "4  asv06_154ap_004  2006   154       no  -600000/600000  apallchicola004   \n",
      "\n",
      "                                            geometry  \\\n",
      "0  LINESTRING (-84.84812700000001 29.746692, -84....   \n",
      "1  LINESTRING (-84.847802 29.7465, -84.847785 29....   \n",
      "2  LINESTRING (-84.84593 29.745267, -84.84593 29....   \n",
      "3  LINESTRING (-84.847753 29.743627, -84.847737 2...   \n",
      "4  LINESTRING (-84.842692 29.745258, -84.842708 2...   \n",
      "\n",
      "                                        measurements  \n",
      "0  [1.0, 3.0, 18.0, 46.0, 74.0, 103.0, 118.0, 132...  \n",
      "1  [1.0, 14.0, 27.0, 42.0, 70.0, 84.0, 98.0, 128....  \n",
      "2  [1.0, 15.0, 29.0, 43.0, 57.0, 73.0, 87.0, 100....  \n",
      "3  [1.0, 8.0, 37.0, 50.0, 79.0, 93.0, 107.0, 121....  \n",
      "4  [1.0, 8.0, 36.0, 50.0, 79.0, 93.0, 122.0, 136....  \n"
     ]
    }
   ],
   "source": [
    "print(gdf.head())"
   ]
  },
  {
   "cell_type": "markdown",
   "metadata": {},
   "source": [
    "**_To easily combine the measurements with their corresponding coordinates in the form of [x, y, M],\n",
    "The following functions are provided_**"
   ]
  },
  {
   "cell_type": "code",
   "execution_count": 8,
   "metadata": {},
   "outputs": [],
   "source": [
    "# returns a geometry dict with measurements value embeded in the coordinates [x, y, M]\n",
    "def zip_geometry(geom, m_values):\n",
    "    geom['coordinates'] = [ coord + (m,) for coord, m in zip(geom['coordinates'], m_values)]\n",
    "    return geom\n",
    "\n",
    "\n",
    "# returns a geometry dict and the measurement values SEPERATLY\n",
    "def unpack_geometry(geom):\n",
    "    m_array, geom['coordinates'] = [], []\n",
    "    for coord in geom['coordinates']:\n",
    "        coords.append(coord[:2])\n",
    "        m_array.append(coord[2])\n",
    "    geom['type'] = geom['type'].rstrip('M')\n",
    "    return geom, m_array\n"
   ]
  },
  {
   "cell_type": "markdown",
   "metadata": {},
   "source": [
    "_**Here we use the zip_geometry function to couple each coordinate with its measurement and generate a Geojson file, in this case the Measurement values are taking the place of Z-axis values**_"
   ]
  },
  {
   "cell_type": "code",
   "execution_count": 18,
   "metadata": {},
   "outputs": [
    {
     "data": {
      "text/plain": [
       "'{\"type\": \"Feature\", \"geometry\": {\"type\": \"LineString\", \"coordinates\": [[-84.848127, 29.746692, 1.0], [-84.848127, 29.746683, 3.0], [-84.848112, 29.746678, 18.0], [-84.848095, 29.74667, 46.0], [-84.848078, 29.746658, 74.0], [-84.848062, 29.746647, 103.0], [-84.848062, 29.746642, 118.0], [-84.848047, 29.746642, 132.0], [-84.84803, 29.746633, 161.0], [-84.848013, 29.746627, 189.0], [-84.847997, 29.746622, 203.0], [-84.847982, 29.746613, 231.0], [-84.847965, 29.746605, 260.0], [-84.847948, 29.746602, 289.0], [-84.847932, 29.746593, 318.0], [-84.847917, 29.746585, 345.0], [-84.8479, 29.746577, 374.0], [-84.847883, 29.746568, 402.0], [-84.847867, 29.746557, 431.0], [-84.84785, 29.746545, 459.0], [-84.84785, 29.74654, 474.0]]}}'"
      ]
     },
     "execution_count": 18,
     "metadata": {},
     "output_type": "execute_result"
    }
   ],
   "source": [
    "geojson_compact = {}\n",
    "geojson_compact['features'] = [ {'type': 'Feature', 'geometry': zip_geometry(f['geometry'], f['properties']['measurements'])}\n",
    "                for f in gdf.iterfeatures() ]\n",
    "\n",
    "json.dumps(geojson_compact['features'][0])"
   ]
  }
 ],
 "metadata": {
  "kernelspec": {
   "display_name": "Python 3",
   "language": "python",
   "name": "python3"
  },
  "language_info": {
   "codemirror_mode": {
    "name": "ipython",
    "version": 3
   },
   "file_extension": ".py",
   "mimetype": "text/x-python",
   "name": "python",
   "nbconvert_exporter": "python",
   "pygments_lexer": "ipython3",
   "version": "3.6.9"
  },
  "pycharm": {
   "stem_cell": {
    "cell_type": "raw",
    "metadata": {
     "collapsed": false
    },
    "source": []
   }
  }
 },
 "nbformat": 4,
 "nbformat_minor": 2
}
