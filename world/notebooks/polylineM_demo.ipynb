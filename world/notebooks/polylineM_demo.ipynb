{
 "cells": [
  {
   "cell_type": "markdown",
   "metadata": {},
   "source": [
    "### Install the modified version of Geopandas"
   ]
  },
  {
   "cell_type": "code",
   "execution_count": 1,
   "metadata": {},
   "outputs": [
    {
     "name": "stdout",
     "output_type": "stream",
     "text": [
      "Collecting git+https://github.com/marouaneloutfi/geopandas.git@polyline-M-support\n",
      "  Cloning https://github.com/marouaneloutfi/geopandas.git (to polyline-M-support) to /tmp/pip-enlk2de4-build\n",
      "Collecting pandas>=0.23.0 (from geopandas==0.5.0+34.g8a11cb6)\n",
      "  Using cached https://files.pythonhosted.org/packages/52/3f/f6a428599e0d4497e1595030965b5ba455fd8ade6e977e3c819973c4b41d/pandas-0.25.3-cp36-cp36m-manylinux1_x86_64.whl\n",
      "Collecting shapely (from geopandas==0.5.0+34.g8a11cb6)\n",
      "  Using cached https://files.pythonhosted.org/packages/38/b6/b53f19062afd49bb5abd049aeed36f13bf8d57ef8f3fa07a5203531a0252/Shapely-1.6.4.post2-cp36-cp36m-manylinux1_x86_64.whl\n",
      "Collecting fiona (from geopandas==0.5.0+34.g8a11cb6)\n",
      "  Using cached https://files.pythonhosted.org/packages/50/f7/9899f8a9a2e38601472fe1079ce5088f58833221c8b8507d8b5eafd5404a/Fiona-1.8.13-cp36-cp36m-manylinux1_x86_64.whl\n",
      "Collecting pyproj (from geopandas==0.5.0+34.g8a11cb6)\n",
      "  Using cached https://files.pythonhosted.org/packages/5f/34/69acc7e9c3d1a4b89bca174af9242f86c608bef6e181f4d7d172d0f940a4/pyproj-2.4.2.post1-cp36-cp36m-manylinux1_x86_64.whl\n",
      "Collecting numpy>=1.13.3 (from pandas>=0.23.0->geopandas==0.5.0+34.g8a11cb6)\n",
      "  Using cached https://files.pythonhosted.org/packages/62/20/4d43e141b5bc426ba38274933ef8e76e85c7adea2c321ecf9ebf7421cedf/numpy-1.18.1-cp36-cp36m-manylinux1_x86_64.whl\n",
      "Collecting pytz>=2017.2 (from pandas>=0.23.0->geopandas==0.5.0+34.g8a11cb6)\n",
      "  Using cached https://files.pythonhosted.org/packages/e7/f9/f0b53f88060247251bf481fa6ea62cd0d25bf1b11a87888e53ce5b7c8ad2/pytz-2019.3-py2.py3-none-any.whl\n",
      "Collecting python-dateutil>=2.6.1 (from pandas>=0.23.0->geopandas==0.5.0+34.g8a11cb6)\n",
      "  Using cached https://files.pythonhosted.org/packages/d4/70/d60450c3dd48ef87586924207ae8907090de0b306af2bce5d134d78615cb/python_dateutil-2.8.1-py2.py3-none-any.whl\n",
      "Collecting cligj>=0.5 (from fiona->geopandas==0.5.0+34.g8a11cb6)\n",
      "  Using cached https://files.pythonhosted.org/packages/e4/be/30a58b4b0733850280d01f8bd132591b4668ed5c7046761098d665ac2174/cligj-0.5.0-py3-none-any.whl\n",
      "Collecting six>=1.7 (from fiona->geopandas==0.5.0+34.g8a11cb6)\n",
      "  Using cached https://files.pythonhosted.org/packages/65/eb/1f97cb97bfc2390a276969c6fae16075da282f5058082d4cb10c6c5c1dba/six-1.14.0-py2.py3-none-any.whl\n",
      "Collecting attrs>=17 (from fiona->geopandas==0.5.0+34.g8a11cb6)\n",
      "  Using cached https://files.pythonhosted.org/packages/a2/db/4313ab3be961f7a763066401fb77f7748373b6094076ae2bda2806988af6/attrs-19.3.0-py2.py3-none-any.whl\n",
      "Collecting click<8,>=4.0 (from fiona->geopandas==0.5.0+34.g8a11cb6)\n",
      "  Using cached https://files.pythonhosted.org/packages/fa/37/45185cb5abbc30d7257104c434fe0b07e5a195a6847506c074527aa599ec/Click-7.0-py2.py3-none-any.whl\n",
      "Collecting munch (from fiona->geopandas==0.5.0+34.g8a11cb6)\n",
      "  Using cached https://files.pythonhosted.org/packages/cc/ab/85d8da5c9a45e072301beb37ad7f833cd344e04c817d97e0cc75681d248f/munch-2.5.0-py2.py3-none-any.whl\n",
      "Collecting click-plugins>=1.0 (from fiona->geopandas==0.5.0+34.g8a11cb6)\n",
      "  Using cached https://files.pythonhosted.org/packages/e9/da/824b92d9942f4e472702488857914bdd50f73021efea15b4cad9aca8ecef/click_plugins-1.1.1-py2.py3-none-any.whl\n",
      "Installing collected packages: numpy, pytz, six, python-dateutil, pandas, shapely, click, cligj, attrs, munch, click-plugins, fiona, pyproj, geopandas\n",
      "  Running setup.py install for geopandas ... \u001b[?25ldone\n",
      "\u001b[?25hSuccessfully installed attrs-19.3.0 click-7.0 click-plugins-1.1.1 cligj-0.5.0 fiona-1.8.13 geopandas-0.5.0+34.g8a11cb6 munch-2.5.0 numpy-1.18.1 pandas-0.25.3 pyproj-2.4.2.post1 python-dateutil-2.8.1 pytz-2019.3 shapely-1.6.4.post2 six-1.14.0\n",
      "Collecting git+https://github.com/marouaneloutfi/Fiona.git@polyline-M-support\n",
      "  Cloning https://github.com/marouaneloutfi/Fiona.git (to polyline-M-support) to /tmp/pip-nfg2ako6-build\n",
      "Collecting attrs>=17 (from Fiona==1.8.6)\n",
      "  Using cached https://files.pythonhosted.org/packages/a2/db/4313ab3be961f7a763066401fb77f7748373b6094076ae2bda2806988af6/attrs-19.3.0-py2.py3-none-any.whl\n",
      "Collecting click<8,>=4.0 (from Fiona==1.8.6)\n",
      "  Using cached https://files.pythonhosted.org/packages/fa/37/45185cb5abbc30d7257104c434fe0b07e5a195a6847506c074527aa599ec/Click-7.0-py2.py3-none-any.whl\n",
      "Collecting cligj>=0.5 (from Fiona==1.8.6)\n",
      "  Using cached https://files.pythonhosted.org/packages/e4/be/30a58b4b0733850280d01f8bd132591b4668ed5c7046761098d665ac2174/cligj-0.5.0-py3-none-any.whl\n",
      "Collecting click-plugins>=1.0 (from Fiona==1.8.6)\n",
      "  Using cached https://files.pythonhosted.org/packages/e9/da/824b92d9942f4e472702488857914bdd50f73021efea15b4cad9aca8ecef/click_plugins-1.1.1-py2.py3-none-any.whl\n",
      "Collecting six>=1.7 (from Fiona==1.8.6)\n",
      "  Using cached https://files.pythonhosted.org/packages/65/eb/1f97cb97bfc2390a276969c6fae16075da282f5058082d4cb10c6c5c1dba/six-1.14.0-py2.py3-none-any.whl\n",
      "Collecting munch (from Fiona==1.8.6)\n",
      "  Using cached https://files.pythonhosted.org/packages/cc/ab/85d8da5c9a45e072301beb37ad7f833cd344e04c817d97e0cc75681d248f/munch-2.5.0-py2.py3-none-any.whl\n",
      "Installing collected packages: attrs, click, cligj, click-plugins, six, munch, Fiona\n",
      "  Running setup.py install for Fiona ... \u001b[?25ldone\n",
      "\u001b[?25hSuccessfully installed Fiona-1.8.13 attrs-19.3.0 click-7.0 click-plugins-1.1.1 cligj-0.5.0 munch-2.5.0 six-1.14.0\n"
     ]
    }
   ],
   "source": [
    "!pip3 install git+https://github.com/marouaneloutfi/geopandas.git@polyline-M-support\n",
    "!pip3 install git+https://github.com/marouaneloutfi/Fiona.git@polyline-M-support"
   ]
  },
  {
   "cell_type": "markdown",
   "metadata": {},
   "source": [
    "### Import The necessary modules"
   ]
  },
  {
   "cell_type": "code",
   "execution_count": 3,
   "metadata": {},
   "outputs": [],
   "source": [
    "import geopandas"
   ]
  },
  {
   "cell_type": "markdown",
   "metadata": {},
   "source": [
    "### Read the shape file containing the polyline M geometries into a geo dataframe "
   ]
  },
  {
   "cell_type": "code",
   "execution_count": 6,
   "metadata": {},
   "outputs": [],
   "source": [
    "gdf = geopandas.read_file('../data/polylineM/asv_lines_Calibrated.shp')"
   ]
  },
  {
   "cell_type": "markdown",
   "metadata": {},
   "source": [
    "_**The M values are stored seperatly for each feature (Geometry) in its 'properties' dict under the key measurements**_"
   ]
  },
  {
   "cell_type": "code",
   "execution_count": 7,
   "metadata": {},
   "outputs": [
    {
     "name": "stdout",
     "output_type": "stream",
     "text": [
      "         lmarkname  year  jday discover        divisors       orig_fname  \\\n",
      "0  asv06_154ap_000  2006   154       no  -600000/600000  apallchicola000   \n",
      "1  asv06_154ap_001  2006   154       no  -600000/600000  apallchicola001   \n",
      "2  asv06_154ap_002  2006   154       no  -600000/600000  apallchicola002   \n",
      "3  asv06_154ap_003  2006   154       no  -600000/600000  apallchicola003   \n",
      "4  asv06_154ap_004  2006   154       no  -600000/600000  apallchicola004   \n",
      "\n",
      "                                            geometry  \\\n",
      "0  LINESTRING (-84.84812700000001 29.746692, -84....   \n",
      "1  LINESTRING (-84.847802 29.7465, -84.847785 29....   \n",
      "2  LINESTRING (-84.84593 29.745267, -84.84593 29....   \n",
      "3  LINESTRING (-84.847753 29.743627, -84.847737 2...   \n",
      "4  LINESTRING (-84.842692 29.745258, -84.842708 2...   \n",
      "\n",
      "                                        measurements  \n",
      "0  [1.0, 3.0, 18.0, 46.0, 74.0, 103.0, 118.0, 132...  \n",
      "1  [1.0, 14.0, 27.0, 42.0, 70.0, 84.0, 98.0, 128....  \n",
      "2  [1.0, 15.0, 29.0, 43.0, 57.0, 73.0, 87.0, 100....  \n",
      "3  [1.0, 8.0, 37.0, 50.0, 79.0, 93.0, 107.0, 121....  \n",
      "4  [1.0, 8.0, 36.0, 50.0, 79.0, 93.0, 122.0, 136....  \n"
     ]
    }
   ],
   "source": [
    "print(gdf.head())"
   ]
  },
  {
   "cell_type": "markdown",
   "metadata": {},
   "source": [
    "**_To easily combine the measurements with their corresponding coordinates in the form of [x,y,M],\n",
    "The following functions are provided_**"
   ]
  },
  {
   "cell_type": "code",
   "execution_count": 8,
   "metadata": {},
   "outputs": [],
   "source": [
    "# returns a geometry dict with measurements value embeded in the coordinates [x, y, M]\n",
    "def zip_geometry(geom, m_values):\n",
    "    geom['coordinates'] = [ coord + (m,) for coord, m in zip(geom['coordinates'], m_values)]\n",
    "    return geom\n",
    "\n",
    "\n",
    "# returns a geometry dict and the measurement values SEPERATLY\n",
    "def unpack_geometry(geom):\n",
    "    m_array, geom['coordinates'] = [], []\n",
    "    for coord in geom['coordinates']:\n",
    "        coords.append(coord[:2])\n",
    "        m_array.append(coord[2])\n",
    "    geom['type'] = geom['type'].rstrip('M')\n",
    "    return geom, m_array\n"
   ]
  },
  {
   "cell_type": "markdown",
   "metadata": {},
   "source": [
    "_**Here we use the zip_geometry function to couple each coordinate with its measurement and generate a Geojson file, in this case the Measurement values are taking the place of Z-axis values**_"
   ]
  },
  {
   "cell_type": "code",
   "execution_count": 18,
   "metadata": {},
   "outputs": [
    {
     "data": {
      "text/plain": [
       "'{\"type\": \"Feature\", \"geometry\": {\"type\": \"LineString\", \"coordinates\": [[-84.848127, 29.746692, 1.0], [-84.848127, 29.746683, 3.0], [-84.848112, 29.746678, 18.0], [-84.848095, 29.74667, 46.0], [-84.848078, 29.746658, 74.0], [-84.848062, 29.746647, 103.0], [-84.848062, 29.746642, 118.0], [-84.848047, 29.746642, 132.0], [-84.84803, 29.746633, 161.0], [-84.848013, 29.746627, 189.0], [-84.847997, 29.746622, 203.0], [-84.847982, 29.746613, 231.0], [-84.847965, 29.746605, 260.0], [-84.847948, 29.746602, 289.0], [-84.847932, 29.746593, 318.0], [-84.847917, 29.746585, 345.0], [-84.8479, 29.746577, 374.0], [-84.847883, 29.746568, 402.0], [-84.847867, 29.746557, 431.0], [-84.84785, 29.746545, 459.0], [-84.84785, 29.74654, 474.0]]}}'"
      ]
     },
     "execution_count": 18,
     "metadata": {},
     "output_type": "execute_result"
    }
   ],
   "source": [
    "geojson_compact = {}\n",
    "geojson_compact['features'] = [ {'type': 'Feature', 'geometry': zip_geometry(f['geometry'], f['properties']['measurements'])}\n",
    "                for f in gdf.iterfeatures() ]\n",
    "\n",
    "json.dumps(geojson_compact['features'][0])"
   ]
  }
 ],
 "metadata": {
  "kernelspec": {
   "display_name": "Python 3",
   "language": "python",
   "name": "python3"
  },
  "language_info": {
   "codemirror_mode": {
    "name": "ipython",
    "version": 3
   },
   "file_extension": ".py",
   "mimetype": "text/x-python",
   "name": "python",
   "nbconvert_exporter": "python",
   "pygments_lexer": "ipython3",
   "version": "3.6.9"
  },
  "pycharm": {
   "stem_cell": {
    "cell_type": "raw",
    "metadata": {
     "collapsed": false
    },
    "source": []
   }
  }
 },
 "nbformat": 4,
 "nbformat_minor": 2
}
